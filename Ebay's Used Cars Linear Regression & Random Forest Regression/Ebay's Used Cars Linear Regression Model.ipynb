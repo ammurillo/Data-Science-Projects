{
 "cells": [
  {
   "cell_type": "code",
   "execution_count": 1,
   "metadata": {},
   "outputs": [],
   "source": [
    "import pandas as pd\n",
    "import numpy as np\n",
    "import matplotlib.pyplot as plt\n",
    "import seaborn as sns\n",
    "import math\n",
    "%matplotlib inline"
   ]
  },
  {
   "cell_type": "markdown",
   "metadata": {},
   "source": [
    "#### Import Data"
   ]
  },
  {
   "cell_type": "code",
   "execution_count": 2,
   "metadata": {},
   "outputs": [],
   "source": [
    "df = pd.read_csv('autos.csv',sep=',',header=0,encoding = 'latin1')"
   ]
  },
  {
   "cell_type": "markdown",
   "metadata": {},
   "source": [
    "#### Explore the data and look at the first few records"
   ]
  },
  {
   "cell_type": "code",
   "execution_count": 3,
   "metadata": {},
   "outputs": [
    {
     "name": "stdout",
     "output_type": "stream",
     "text": [
      "<class 'pandas.core.frame.DataFrame'>\n",
      "RangeIndex: 371528 entries, 0 to 371527\n",
      "Data columns (total 20 columns):\n",
      "dateCrawled            371528 non-null object\n",
      "name                   371528 non-null object\n",
      "seller                 371528 non-null object\n",
      "offerType              371528 non-null object\n",
      "price                  371528 non-null int64\n",
      "abtest                 371528 non-null object\n",
      "vehicleType            333659 non-null object\n",
      "yearOfRegistration     371528 non-null int64\n",
      "gearbox                351319 non-null object\n",
      "powerPS                371528 non-null int64\n",
      "model                  351044 non-null object\n",
      "kilometer              371528 non-null int64\n",
      "monthOfRegistration    371528 non-null int64\n",
      "fuelType               338142 non-null object\n",
      "brand                  371528 non-null object\n",
      "notRepairedDamage      299468 non-null object\n",
      "dateCreated            371528 non-null object\n",
      "nrOfPictures           371528 non-null int64\n",
      "postalCode             371528 non-null int64\n",
      "lastSeen               371528 non-null object\n",
      "dtypes: int64(7), object(13)\n",
      "memory usage: 56.7+ MB\n"
     ]
    }
   ],
   "source": [
    "df.info()"
   ]
  },
  {
   "cell_type": "code",
   "execution_count": 4,
   "metadata": {},
   "outputs": [
    {
     "data": {
      "text/html": [
       "<div>\n",
       "<style scoped>\n",
       "    .dataframe tbody tr th:only-of-type {\n",
       "        vertical-align: middle;\n",
       "    }\n",
       "\n",
       "    .dataframe tbody tr th {\n",
       "        vertical-align: top;\n",
       "    }\n",
       "\n",
       "    .dataframe thead th {\n",
       "        text-align: right;\n",
       "    }\n",
       "</style>\n",
       "<table border=\"1\" class=\"dataframe\">\n",
       "  <thead>\n",
       "    <tr style=\"text-align: right;\">\n",
       "      <th></th>\n",
       "      <th>price</th>\n",
       "      <th>yearOfRegistration</th>\n",
       "      <th>powerPS</th>\n",
       "      <th>kilometer</th>\n",
       "      <th>monthOfRegistration</th>\n",
       "      <th>nrOfPictures</th>\n",
       "      <th>postalCode</th>\n",
       "    </tr>\n",
       "  </thead>\n",
       "  <tbody>\n",
       "    <tr>\n",
       "      <th>count</th>\n",
       "      <td>3.715280e+05</td>\n",
       "      <td>371528.000000</td>\n",
       "      <td>371528.000000</td>\n",
       "      <td>371528.000000</td>\n",
       "      <td>371528.000000</td>\n",
       "      <td>371528.0</td>\n",
       "      <td>371528.00000</td>\n",
       "    </tr>\n",
       "    <tr>\n",
       "      <th>mean</th>\n",
       "      <td>1.729514e+04</td>\n",
       "      <td>2004.577997</td>\n",
       "      <td>115.549477</td>\n",
       "      <td>125618.688228</td>\n",
       "      <td>5.734445</td>\n",
       "      <td>0.0</td>\n",
       "      <td>50820.66764</td>\n",
       "    </tr>\n",
       "    <tr>\n",
       "      <th>std</th>\n",
       "      <td>3.587954e+06</td>\n",
       "      <td>92.866598</td>\n",
       "      <td>192.139578</td>\n",
       "      <td>40112.337051</td>\n",
       "      <td>3.712412</td>\n",
       "      <td>0.0</td>\n",
       "      <td>25799.08247</td>\n",
       "    </tr>\n",
       "    <tr>\n",
       "      <th>min</th>\n",
       "      <td>0.000000e+00</td>\n",
       "      <td>1000.000000</td>\n",
       "      <td>0.000000</td>\n",
       "      <td>5000.000000</td>\n",
       "      <td>0.000000</td>\n",
       "      <td>0.0</td>\n",
       "      <td>1067.00000</td>\n",
       "    </tr>\n",
       "    <tr>\n",
       "      <th>25%</th>\n",
       "      <td>1.150000e+03</td>\n",
       "      <td>1999.000000</td>\n",
       "      <td>70.000000</td>\n",
       "      <td>125000.000000</td>\n",
       "      <td>3.000000</td>\n",
       "      <td>0.0</td>\n",
       "      <td>30459.00000</td>\n",
       "    </tr>\n",
       "    <tr>\n",
       "      <th>50%</th>\n",
       "      <td>2.950000e+03</td>\n",
       "      <td>2003.000000</td>\n",
       "      <td>105.000000</td>\n",
       "      <td>150000.000000</td>\n",
       "      <td>6.000000</td>\n",
       "      <td>0.0</td>\n",
       "      <td>49610.00000</td>\n",
       "    </tr>\n",
       "    <tr>\n",
       "      <th>75%</th>\n",
       "      <td>7.200000e+03</td>\n",
       "      <td>2008.000000</td>\n",
       "      <td>150.000000</td>\n",
       "      <td>150000.000000</td>\n",
       "      <td>9.000000</td>\n",
       "      <td>0.0</td>\n",
       "      <td>71546.00000</td>\n",
       "    </tr>\n",
       "    <tr>\n",
       "      <th>max</th>\n",
       "      <td>2.147484e+09</td>\n",
       "      <td>9999.000000</td>\n",
       "      <td>20000.000000</td>\n",
       "      <td>150000.000000</td>\n",
       "      <td>12.000000</td>\n",
       "      <td>0.0</td>\n",
       "      <td>99998.00000</td>\n",
       "    </tr>\n",
       "  </tbody>\n",
       "</table>\n",
       "</div>"
      ],
      "text/plain": [
       "              price  yearOfRegistration        powerPS      kilometer  \\\n",
       "count  3.715280e+05       371528.000000  371528.000000  371528.000000   \n",
       "mean   1.729514e+04         2004.577997     115.549477  125618.688228   \n",
       "std    3.587954e+06           92.866598     192.139578   40112.337051   \n",
       "min    0.000000e+00         1000.000000       0.000000    5000.000000   \n",
       "25%    1.150000e+03         1999.000000      70.000000  125000.000000   \n",
       "50%    2.950000e+03         2003.000000     105.000000  150000.000000   \n",
       "75%    7.200000e+03         2008.000000     150.000000  150000.000000   \n",
       "max    2.147484e+09         9999.000000   20000.000000  150000.000000   \n",
       "\n",
       "       monthOfRegistration  nrOfPictures    postalCode  \n",
       "count        371528.000000      371528.0  371528.00000  \n",
       "mean              5.734445           0.0   50820.66764  \n",
       "std               3.712412           0.0   25799.08247  \n",
       "min               0.000000           0.0    1067.00000  \n",
       "25%               3.000000           0.0   30459.00000  \n",
       "50%               6.000000           0.0   49610.00000  \n",
       "75%               9.000000           0.0   71546.00000  \n",
       "max              12.000000           0.0   99998.00000  "
      ]
     },
     "execution_count": 4,
     "metadata": {},
     "output_type": "execute_result"
    }
   ],
   "source": [
    "df.describe()"
   ]
  },
  {
   "cell_type": "code",
   "execution_count": 5,
   "metadata": {},
   "outputs": [
    {
     "data": {
      "text/html": [
       "<div>\n",
       "<style scoped>\n",
       "    .dataframe tbody tr th:only-of-type {\n",
       "        vertical-align: middle;\n",
       "    }\n",
       "\n",
       "    .dataframe tbody tr th {\n",
       "        vertical-align: top;\n",
       "    }\n",
       "\n",
       "    .dataframe thead th {\n",
       "        text-align: right;\n",
       "    }\n",
       "</style>\n",
       "<table border=\"1\" class=\"dataframe\">\n",
       "  <thead>\n",
       "    <tr style=\"text-align: right;\">\n",
       "      <th></th>\n",
       "      <th>dateCrawled</th>\n",
       "      <th>name</th>\n",
       "      <th>seller</th>\n",
       "      <th>offerType</th>\n",
       "      <th>price</th>\n",
       "      <th>abtest</th>\n",
       "      <th>vehicleType</th>\n",
       "      <th>yearOfRegistration</th>\n",
       "      <th>gearbox</th>\n",
       "      <th>powerPS</th>\n",
       "      <th>model</th>\n",
       "      <th>kilometer</th>\n",
       "      <th>monthOfRegistration</th>\n",
       "      <th>fuelType</th>\n",
       "      <th>brand</th>\n",
       "      <th>notRepairedDamage</th>\n",
       "      <th>dateCreated</th>\n",
       "      <th>nrOfPictures</th>\n",
       "      <th>postalCode</th>\n",
       "      <th>lastSeen</th>\n",
       "    </tr>\n",
       "  </thead>\n",
       "  <tbody>\n",
       "    <tr>\n",
       "      <th>0</th>\n",
       "      <td>2016-03-24 11:52:17</td>\n",
       "      <td>Golf_3_1.6</td>\n",
       "      <td>privat</td>\n",
       "      <td>Angebot</td>\n",
       "      <td>480</td>\n",
       "      <td>test</td>\n",
       "      <td>NaN</td>\n",
       "      <td>1993</td>\n",
       "      <td>manuell</td>\n",
       "      <td>0</td>\n",
       "      <td>golf</td>\n",
       "      <td>150000</td>\n",
       "      <td>0</td>\n",
       "      <td>benzin</td>\n",
       "      <td>volkswagen</td>\n",
       "      <td>NaN</td>\n",
       "      <td>2016-03-24 00:00:00</td>\n",
       "      <td>0</td>\n",
       "      <td>70435</td>\n",
       "      <td>2016-04-07 03:16:57</td>\n",
       "    </tr>\n",
       "    <tr>\n",
       "      <th>1</th>\n",
       "      <td>2016-03-24 10:58:45</td>\n",
       "      <td>A5_Sportback_2.7_Tdi</td>\n",
       "      <td>privat</td>\n",
       "      <td>Angebot</td>\n",
       "      <td>18300</td>\n",
       "      <td>test</td>\n",
       "      <td>coupe</td>\n",
       "      <td>2011</td>\n",
       "      <td>manuell</td>\n",
       "      <td>190</td>\n",
       "      <td>NaN</td>\n",
       "      <td>125000</td>\n",
       "      <td>5</td>\n",
       "      <td>diesel</td>\n",
       "      <td>audi</td>\n",
       "      <td>ja</td>\n",
       "      <td>2016-03-24 00:00:00</td>\n",
       "      <td>0</td>\n",
       "      <td>66954</td>\n",
       "      <td>2016-04-07 01:46:50</td>\n",
       "    </tr>\n",
       "    <tr>\n",
       "      <th>2</th>\n",
       "      <td>2016-03-14 12:52:21</td>\n",
       "      <td>Jeep_Grand_Cherokee_\"Overland\"</td>\n",
       "      <td>privat</td>\n",
       "      <td>Angebot</td>\n",
       "      <td>9800</td>\n",
       "      <td>test</td>\n",
       "      <td>suv</td>\n",
       "      <td>2004</td>\n",
       "      <td>automatik</td>\n",
       "      <td>163</td>\n",
       "      <td>grand</td>\n",
       "      <td>125000</td>\n",
       "      <td>8</td>\n",
       "      <td>diesel</td>\n",
       "      <td>jeep</td>\n",
       "      <td>NaN</td>\n",
       "      <td>2016-03-14 00:00:00</td>\n",
       "      <td>0</td>\n",
       "      <td>90480</td>\n",
       "      <td>2016-04-05 12:47:46</td>\n",
       "    </tr>\n",
       "    <tr>\n",
       "      <th>3</th>\n",
       "      <td>2016-03-17 16:54:04</td>\n",
       "      <td>GOLF_4_1_4__3TÜRER</td>\n",
       "      <td>privat</td>\n",
       "      <td>Angebot</td>\n",
       "      <td>1500</td>\n",
       "      <td>test</td>\n",
       "      <td>kleinwagen</td>\n",
       "      <td>2001</td>\n",
       "      <td>manuell</td>\n",
       "      <td>75</td>\n",
       "      <td>golf</td>\n",
       "      <td>150000</td>\n",
       "      <td>6</td>\n",
       "      <td>benzin</td>\n",
       "      <td>volkswagen</td>\n",
       "      <td>nein</td>\n",
       "      <td>2016-03-17 00:00:00</td>\n",
       "      <td>0</td>\n",
       "      <td>91074</td>\n",
       "      <td>2016-03-17 17:40:17</td>\n",
       "    </tr>\n",
       "    <tr>\n",
       "      <th>4</th>\n",
       "      <td>2016-03-31 17:25:20</td>\n",
       "      <td>Skoda_Fabia_1.4_TDI_PD_Classic</td>\n",
       "      <td>privat</td>\n",
       "      <td>Angebot</td>\n",
       "      <td>3600</td>\n",
       "      <td>test</td>\n",
       "      <td>kleinwagen</td>\n",
       "      <td>2008</td>\n",
       "      <td>manuell</td>\n",
       "      <td>69</td>\n",
       "      <td>fabia</td>\n",
       "      <td>90000</td>\n",
       "      <td>7</td>\n",
       "      <td>diesel</td>\n",
       "      <td>skoda</td>\n",
       "      <td>nein</td>\n",
       "      <td>2016-03-31 00:00:00</td>\n",
       "      <td>0</td>\n",
       "      <td>60437</td>\n",
       "      <td>2016-04-06 10:17:21</td>\n",
       "    </tr>\n",
       "  </tbody>\n",
       "</table>\n",
       "</div>"
      ],
      "text/plain": [
       "           dateCrawled                            name  seller offerType  \\\n",
       "0  2016-03-24 11:52:17                      Golf_3_1.6  privat   Angebot   \n",
       "1  2016-03-24 10:58:45            A5_Sportback_2.7_Tdi  privat   Angebot   \n",
       "2  2016-03-14 12:52:21  Jeep_Grand_Cherokee_\"Overland\"  privat   Angebot   \n",
       "3  2016-03-17 16:54:04              GOLF_4_1_4__3TÜRER  privat   Angebot   \n",
       "4  2016-03-31 17:25:20  Skoda_Fabia_1.4_TDI_PD_Classic  privat   Angebot   \n",
       "\n",
       "   price abtest vehicleType  yearOfRegistration    gearbox  powerPS  model  \\\n",
       "0    480   test         NaN                1993    manuell        0   golf   \n",
       "1  18300   test       coupe                2011    manuell      190    NaN   \n",
       "2   9800   test         suv                2004  automatik      163  grand   \n",
       "3   1500   test  kleinwagen                2001    manuell       75   golf   \n",
       "4   3600   test  kleinwagen                2008    manuell       69  fabia   \n",
       "\n",
       "   kilometer  monthOfRegistration fuelType       brand notRepairedDamage  \\\n",
       "0     150000                    0   benzin  volkswagen               NaN   \n",
       "1     125000                    5   diesel        audi                ja   \n",
       "2     125000                    8   diesel        jeep               NaN   \n",
       "3     150000                    6   benzin  volkswagen              nein   \n",
       "4      90000                    7   diesel       skoda              nein   \n",
       "\n",
       "           dateCreated  nrOfPictures  postalCode             lastSeen  \n",
       "0  2016-03-24 00:00:00             0       70435  2016-04-07 03:16:57  \n",
       "1  2016-03-24 00:00:00             0       66954  2016-04-07 01:46:50  \n",
       "2  2016-03-14 00:00:00             0       90480  2016-04-05 12:47:46  \n",
       "3  2016-03-17 00:00:00             0       91074  2016-03-17 17:40:17  \n",
       "4  2016-03-31 00:00:00             0       60437  2016-04-06 10:17:21  "
      ]
     },
     "execution_count": 5,
     "metadata": {},
     "output_type": "execute_result"
    }
   ],
   "source": [
    "df.head()"
   ]
  },
  {
   "cell_type": "markdown",
   "metadata": {},
   "source": [
    "#### Identify missing records "
   ]
  },
  {
   "cell_type": "code",
   "execution_count": 6,
   "metadata": {},
   "outputs": [
    {
     "data": {
      "text/plain": [
       "dateCrawled                0\n",
       "name                       0\n",
       "seller                     0\n",
       "offerType                  0\n",
       "price                      0\n",
       "abtest                     0\n",
       "vehicleType            37869\n",
       "yearOfRegistration         0\n",
       "gearbox                20209\n",
       "powerPS                    0\n",
       "model                  20484\n",
       "kilometer                  0\n",
       "monthOfRegistration        0\n",
       "fuelType               33386\n",
       "brand                      0\n",
       "notRepairedDamage      72060\n",
       "dateCreated                0\n",
       "nrOfPictures               0\n",
       "postalCode                 0\n",
       "lastSeen                   0\n",
       "dtype: int64"
      ]
     },
     "execution_count": 6,
     "metadata": {},
     "output_type": "execute_result"
    }
   ],
   "source": [
    "df.isnull().sum()"
   ]
  },
  {
   "cell_type": "markdown",
   "metadata": {},
   "source": [
    "Lets explore the missing values to see whether we can replace them with an appropriate value or decide to drop the values."
   ]
  },
  {
   "cell_type": "code",
   "execution_count": 7,
   "metadata": {},
   "outputs": [
    {
     "data": {
      "text/plain": [
       "nein    263182\n",
       "ja       36286\n",
       "Name: notRepairedDamage, dtype: int64"
      ]
     },
     "execution_count": 7,
     "metadata": {},
     "output_type": "execute_result"
    }
   ],
   "source": [
    "df['notRepairedDamage'].value_counts()"
   ]
  },
  {
   "cell_type": "markdown",
   "metadata": {},
   "source": [
    "87.7% of 'notRepairedDamage' feature is 'nein'. Would be okay to replace the missing entries with the most common \n",
    "response."
   ]
  },
  {
   "cell_type": "code",
   "execution_count": 8,
   "metadata": {},
   "outputs": [],
   "source": [
    "df['notRepairedDamage'].fillna('nein',inplace=True)"
   ]
  },
  {
   "cell_type": "markdown",
   "metadata": {},
   "source": [
    "Let's explore some of the other features."
   ]
  },
  {
   "cell_type": "code",
   "execution_count": 9,
   "metadata": {},
   "outputs": [
    {
     "data": {
      "text/plain": [
       "benzin     223857\n",
       "diesel     107746\n",
       "lpg          5378\n",
       "cng           571\n",
       "hybrid        278\n",
       "andere        208\n",
       "elektro       104\n",
       "Name: fuelType, dtype: int64"
      ]
     },
     "execution_count": 9,
     "metadata": {},
     "output_type": "execute_result"
    }
   ],
   "source": [
    "df['fuelType'].value_counts()"
   ]
  },
  {
   "cell_type": "markdown",
   "metadata": {},
   "source": [
    "66% of 'fuelType' feature is 'benzin'. The vast majority is not 'benzin' so replacing the missing values with 'benzin' might\n",
    "not be the best approach. Furthermore, the accuracy of our model drops 1% if you were to replace the missing value with \n",
    "'benzin'."
   ]
  },
  {
   "cell_type": "code",
   "execution_count": 10,
   "metadata": {},
   "outputs": [],
   "source": [
    "#df['fuelType'].fillna('benzin',inplace=True)"
   ]
  },
  {
   "cell_type": "markdown",
   "metadata": {},
   "source": [
    "Replace missing values with the most common entry for 'gearbox'"
   ]
  },
  {
   "cell_type": "code",
   "execution_count": 11,
   "metadata": {},
   "outputs": [
    {
     "data": {
      "text/plain": [
       "manuell      274214\n",
       "automatik     77105\n",
       "Name: gearbox, dtype: int64"
      ]
     },
     "execution_count": 11,
     "metadata": {},
     "output_type": "execute_result"
    }
   ],
   "source": [
    "df['gearbox'].value_counts()"
   ]
  },
  {
   "cell_type": "code",
   "execution_count": 12,
   "metadata": {},
   "outputs": [],
   "source": [
    "df['gearbox'].fillna('manuell',inplace=True)"
   ]
  },
  {
   "cell_type": "markdown",
   "metadata": {},
   "source": [
    "#### Drop missing records. "
   ]
  },
  {
   "cell_type": "markdown",
   "metadata": {},
   "source": [
    "DataSet is large enough that we can affort to drop a couple of the missing records without compromising our model."
   ]
  },
  {
   "cell_type": "code",
   "execution_count": 13,
   "metadata": {},
   "outputs": [],
   "source": [
    "df.dropna(inplace=True)"
   ]
  },
  {
   "cell_type": "markdown",
   "metadata": {},
   "source": [
    "Look at heatmap of null values to make sure all are gone."
   ]
  },
  {
   "cell_type": "code",
   "execution_count": 14,
   "metadata": {},
   "outputs": [
    {
     "data": {
      "text/plain": [
       "<matplotlib.axes._subplots.AxesSubplot at 0x1a8a7141be0>"
      ]
     },
     "execution_count": 14,
     "metadata": {},
     "output_type": "execute_result"
    },
    {
     "data": {
      "image/png": "[encoded data removed]",
      "text/plain": [
       "<matplotlib.figure.Figure at 0x1a89ed3e400>"
      ]
     },
     "metadata": {},
     "output_type": "display_data"
    }
   ],
   "source": [
    "sns.heatmap(df.isnull(),yticklabels=False,cbar=False,cmap='viridis')"
   ]
  },
  {
   "cell_type": "markdown",
   "metadata": {},
   "source": [
    "#### Remove unnecessary columns "
   ]
  },
  {
   "cell_type": "markdown",
   "metadata": {},
   "source": [
    "Some of these columns do not provide any significant information. For example, 'abtest' only has 1 unique value, 'name' is\n",
    "a bit redundant since the information is also stored in 'brand' and 'vehicle type' but more organized, 'lastSeen' seems to \n",
    "be irrelevant information. Explored through the kernels to see what the community opinion is on what they\n",
    "think is relevant or not."
   ]
  },
  {
   "cell_type": "code",
   "execution_count": 15,
   "metadata": {},
   "outputs": [],
   "source": [
    "df.drop(['name','dateCrawled','seller','offerType','abtest','nrOfPictures',\n",
    "         'lastSeen','postalCode','dateCreated','monthOfRegistration'],axis=1,inplace=True)"
   ]
  },
  {
   "cell_type": "markdown",
   "metadata": {},
   "source": [
    "#### Remove outliers from the data."
   ]
  },
  {
   "cell_type": "markdown",
   "metadata": {},
   "source": [
    "Since we are doing a linear regression, it is important to address any potential outliers since they can greatly influence\n",
    "the model."
   ]
  },
  {
   "cell_type": "code",
   "execution_count": 16,
   "metadata": {},
   "outputs": [
    {
     "name": "stdout",
     "output_type": "stream",
     "text": [
      "Min Value: 0 Max Value: 99999999\n"
     ]
    }
   ],
   "source": [
    "print('Min Value: {} Max Value: {}'.format(df['price'].min(),df['price'].max()))"
   ]
  },
  {
   "cell_type": "code",
   "execution_count": 17,
   "metadata": {},
   "outputs": [
    {
     "data": {
      "text/plain": [
       "count    3.071220e+05\n",
       "mean     9.404320e+03\n",
       "std      5.192426e+05\n",
       "min      0.000000e+00\n",
       "25%      1.399000e+03\n",
       "50%      3.450000e+03\n",
       "75%      7.980000e+03\n",
       "max      1.000000e+08\n",
       "Name: price, dtype: float64"
      ]
     },
     "execution_count": 17,
     "metadata": {},
     "output_type": "execute_result"
    }
   ],
   "source": [
    "df['price'].describe()"
   ]
  },
  {
   "cell_type": "markdown",
   "metadata": {},
   "source": [
    "Choosing to select price values above 200 and uder 40000. "
   ]
  },
  {
   "cell_type": "code",
   "execution_count": 19,
   "metadata": {},
   "outputs": [],
   "source": [
    "df = df[(df['price']>200) & (df['price']<40000)]"
   ]
  },
  {
   "cell_type": "markdown",
   "metadata": {},
   "source": [
    "#### Let's evaluate some of the other features."
   ]
  },
  {
   "cell_type": "markdown",
   "metadata": {},
   "source": [
    "By removing potential outliers, I've been able to increase my models accuracy from 58% up to 80%. "
   ]
  },
  {
   "cell_type": "code",
   "execution_count": 20,
   "metadata": {
    "scrolled": true
   },
   "outputs": [
    {
     "data": {
      "text/plain": [
       "<matplotlib.axes._subplots.AxesSubplot at 0x1a8a72606d8>"
      ]
     },
     "execution_count": 20,
     "metadata": {},
     "output_type": "execute_result"
    },
    {
     "data": {
      "image/png": "[encoded data removed]",
      "text/plain": [
       "<matplotlib.figure.Figure at 0x1a8a7266588>"
      ]
     },
     "metadata": {},
     "output_type": "display_data"
    }
   ],
   "source": [
    "sns.distplot(df['yearOfRegistration'])"
   ]
  },
  {
   "cell_type": "code",
   "execution_count": 21,
   "metadata": {},
   "outputs": [],
   "source": [
    "df = df[(df['yearOfRegistration']>1995) & (df['yearOfRegistration']<2016)]"
   ]
  },
  {
   "cell_type": "code",
   "execution_count": 22,
   "metadata": {},
   "outputs": [
    {
     "data": {
      "text/plain": [
       "count    269406.000000\n",
       "mean        123.235151\n",
       "std         164.861942\n",
       "min           0.000000\n",
       "25%          75.000000\n",
       "50%         116.000000\n",
       "75%         150.000000\n",
       "max       20000.000000\n",
       "Name: powerPS, dtype: float64"
      ]
     },
     "execution_count": 22,
     "metadata": {},
     "output_type": "execute_result"
    }
   ],
   "source": [
    "df['powerPS'].describe()"
   ]
  },
  {
   "cell_type": "code",
   "execution_count": 23,
   "metadata": {},
   "outputs": [],
   "source": [
    "df = df[(df['powerPS']>50)& (df['powerPS']<200)]"
   ]
  },
  {
   "cell_type": "code",
   "execution_count": 24,
   "metadata": {},
   "outputs": [
    {
     "data": {
      "text/html": [
       "<div>\n",
       "<style scoped>\n",
       "    .dataframe tbody tr th:only-of-type {\n",
       "        vertical-align: middle;\n",
       "    }\n",
       "\n",
       "    .dataframe tbody tr th {\n",
       "        vertical-align: top;\n",
       "    }\n",
       "\n",
       "    .dataframe thead th {\n",
       "        text-align: right;\n",
       "    }\n",
       "</style>\n",
       "<table border=\"1\" class=\"dataframe\">\n",
       "  <thead>\n",
       "    <tr style=\"text-align: right;\">\n",
       "      <th></th>\n",
       "      <th>price</th>\n",
       "      <th>vehicleType</th>\n",
       "      <th>yearOfRegistration</th>\n",
       "      <th>gearbox</th>\n",
       "      <th>powerPS</th>\n",
       "      <th>model</th>\n",
       "      <th>kilometer</th>\n",
       "      <th>fuelType</th>\n",
       "      <th>brand</th>\n",
       "      <th>notRepairedDamage</th>\n",
       "    </tr>\n",
       "  </thead>\n",
       "  <tbody>\n",
       "    <tr>\n",
       "      <th>2</th>\n",
       "      <td>9800</td>\n",
       "      <td>suv</td>\n",
       "      <td>2004</td>\n",
       "      <td>automatik</td>\n",
       "      <td>163</td>\n",
       "      <td>grand</td>\n",
       "      <td>125000</td>\n",
       "      <td>diesel</td>\n",
       "      <td>jeep</td>\n",
       "      <td>nein</td>\n",
       "    </tr>\n",
       "    <tr>\n",
       "      <th>3</th>\n",
       "      <td>1500</td>\n",
       "      <td>kleinwagen</td>\n",
       "      <td>2001</td>\n",
       "      <td>manuell</td>\n",
       "      <td>75</td>\n",
       "      <td>golf</td>\n",
       "      <td>150000</td>\n",
       "      <td>benzin</td>\n",
       "      <td>volkswagen</td>\n",
       "      <td>nein</td>\n",
       "    </tr>\n",
       "    <tr>\n",
       "      <th>4</th>\n",
       "      <td>3600</td>\n",
       "      <td>kleinwagen</td>\n",
       "      <td>2008</td>\n",
       "      <td>manuell</td>\n",
       "      <td>69</td>\n",
       "      <td>fabia</td>\n",
       "      <td>90000</td>\n",
       "      <td>diesel</td>\n",
       "      <td>skoda</td>\n",
       "      <td>nein</td>\n",
       "    </tr>\n",
       "    <tr>\n",
       "      <th>6</th>\n",
       "      <td>2200</td>\n",
       "      <td>cabrio</td>\n",
       "      <td>2004</td>\n",
       "      <td>manuell</td>\n",
       "      <td>109</td>\n",
       "      <td>2_reihe</td>\n",
       "      <td>150000</td>\n",
       "      <td>benzin</td>\n",
       "      <td>peugeot</td>\n",
       "      <td>nein</td>\n",
       "    </tr>\n",
       "    <tr>\n",
       "      <th>8</th>\n",
       "      <td>14500</td>\n",
       "      <td>bus</td>\n",
       "      <td>2014</td>\n",
       "      <td>manuell</td>\n",
       "      <td>125</td>\n",
       "      <td>c_max</td>\n",
       "      <td>30000</td>\n",
       "      <td>benzin</td>\n",
       "      <td>ford</td>\n",
       "      <td>nein</td>\n",
       "    </tr>\n",
       "  </tbody>\n",
       "</table>\n",
       "</div>"
      ],
      "text/plain": [
       "   price vehicleType  yearOfRegistration    gearbox  powerPS    model  \\\n",
       "2   9800         suv                2004  automatik      163    grand   \n",
       "3   1500  kleinwagen                2001    manuell       75     golf   \n",
       "4   3600  kleinwagen                2008    manuell       69    fabia   \n",
       "6   2200      cabrio                2004    manuell      109  2_reihe   \n",
       "8  14500         bus                2014    manuell      125    c_max   \n",
       "\n",
       "   kilometer fuelType       brand notRepairedDamage  \n",
       "2     125000   diesel        jeep              nein  \n",
       "3     150000   benzin  volkswagen              nein  \n",
       "4      90000   diesel       skoda              nein  \n",
       "6     150000   benzin     peugeot              nein  \n",
       "8      30000   benzin        ford              nein  "
      ]
     },
     "execution_count": 24,
     "metadata": {},
     "output_type": "execute_result"
    }
   ],
   "source": [
    "df.head()"
   ]
  },
  {
   "cell_type": "markdown",
   "metadata": {},
   "source": [
    "#### Converting categorical data into dummy variables."
   ]
  },
  {
   "cell_type": "code",
   "execution_count": 25,
   "metadata": {},
   "outputs": [],
   "source": [
    "df=pd.get_dummies(data=df,columns=['notRepairedDamage','vehicleType','model','brand','gearbox','fuelType'],drop_first=True)"
   ]
  },
  {
   "cell_type": "code",
   "execution_count": 26,
   "metadata": {},
   "outputs": [
    {
     "data": {
      "text/html": [
       "<div>\n",
       "<style scoped>\n",
       "    .dataframe tbody tr th:only-of-type {\n",
       "        vertical-align: middle;\n",
       "    }\n",
       "\n",
       "    .dataframe tbody tr th {\n",
       "        vertical-align: top;\n",
       "    }\n",
       "\n",
       "    .dataframe thead th {\n",
       "        text-align: right;\n",
       "    }\n",
       "</style>\n",
       "<table border=\"1\" class=\"dataframe\">\n",
       "  <thead>\n",
       "    <tr style=\"text-align: right;\">\n",
       "      <th></th>\n",
       "      <th>price</th>\n",
       "      <th>yearOfRegistration</th>\n",
       "      <th>powerPS</th>\n",
       "      <th>kilometer</th>\n",
       "      <th>notRepairedDamage_nein</th>\n",
       "      <th>vehicleType_bus</th>\n",
       "      <th>vehicleType_cabrio</th>\n",
       "      <th>vehicleType_coupe</th>\n",
       "      <th>vehicleType_kleinwagen</th>\n",
       "      <th>vehicleType_kombi</th>\n",
       "      <th>...</th>\n",
       "      <th>brand_toyota</th>\n",
       "      <th>brand_volkswagen</th>\n",
       "      <th>brand_volvo</th>\n",
       "      <th>gearbox_manuell</th>\n",
       "      <th>fuelType_benzin</th>\n",
       "      <th>fuelType_cng</th>\n",
       "      <th>fuelType_diesel</th>\n",
       "      <th>fuelType_elektro</th>\n",
       "      <th>fuelType_hybrid</th>\n",
       "      <th>fuelType_lpg</th>\n",
       "    </tr>\n",
       "  </thead>\n",
       "  <tbody>\n",
       "    <tr>\n",
       "      <th>2</th>\n",
       "      <td>9800</td>\n",
       "      <td>2004</td>\n",
       "      <td>163</td>\n",
       "      <td>125000</td>\n",
       "      <td>1</td>\n",
       "      <td>0</td>\n",
       "      <td>0</td>\n",
       "      <td>0</td>\n",
       "      <td>0</td>\n",
       "      <td>0</td>\n",
       "      <td>...</td>\n",
       "      <td>0</td>\n",
       "      <td>0</td>\n",
       "      <td>0</td>\n",
       "      <td>0</td>\n",
       "      <td>0</td>\n",
       "      <td>0</td>\n",
       "      <td>1</td>\n",
       "      <td>0</td>\n",
       "      <td>0</td>\n",
       "      <td>0</td>\n",
       "    </tr>\n",
       "    <tr>\n",
       "      <th>3</th>\n",
       "      <td>1500</td>\n",
       "      <td>2001</td>\n",
       "      <td>75</td>\n",
       "      <td>150000</td>\n",
       "      <td>1</td>\n",
       "      <td>0</td>\n",
       "      <td>0</td>\n",
       "      <td>0</td>\n",
       "      <td>1</td>\n",
       "      <td>0</td>\n",
       "      <td>...</td>\n",
       "      <td>0</td>\n",
       "      <td>1</td>\n",
       "      <td>0</td>\n",
       "      <td>1</td>\n",
       "      <td>1</td>\n",
       "      <td>0</td>\n",
       "      <td>0</td>\n",
       "      <td>0</td>\n",
       "      <td>0</td>\n",
       "      <td>0</td>\n",
       "    </tr>\n",
       "    <tr>\n",
       "      <th>4</th>\n",
       "      <td>3600</td>\n",
       "      <td>2008</td>\n",
       "      <td>69</td>\n",
       "      <td>90000</td>\n",
       "      <td>1</td>\n",
       "      <td>0</td>\n",
       "      <td>0</td>\n",
       "      <td>0</td>\n",
       "      <td>1</td>\n",
       "      <td>0</td>\n",
       "      <td>...</td>\n",
       "      <td>0</td>\n",
       "      <td>0</td>\n",
       "      <td>0</td>\n",
       "      <td>1</td>\n",
       "      <td>0</td>\n",
       "      <td>0</td>\n",
       "      <td>1</td>\n",
       "      <td>0</td>\n",
       "      <td>0</td>\n",
       "      <td>0</td>\n",
       "    </tr>\n",
       "    <tr>\n",
       "      <th>6</th>\n",
       "      <td>2200</td>\n",
       "      <td>2004</td>\n",
       "      <td>109</td>\n",
       "      <td>150000</td>\n",
       "      <td>1</td>\n",
       "      <td>0</td>\n",
       "      <td>1</td>\n",
       "      <td>0</td>\n",
       "      <td>0</td>\n",
       "      <td>0</td>\n",
       "      <td>...</td>\n",
       "      <td>0</td>\n",
       "      <td>0</td>\n",
       "      <td>0</td>\n",
       "      <td>1</td>\n",
       "      <td>1</td>\n",
       "      <td>0</td>\n",
       "      <td>0</td>\n",
       "      <td>0</td>\n",
       "      <td>0</td>\n",
       "      <td>0</td>\n",
       "    </tr>\n",
       "    <tr>\n",
       "      <th>8</th>\n",
       "      <td>14500</td>\n",
       "      <td>2014</td>\n",
       "      <td>125</td>\n",
       "      <td>30000</td>\n",
       "      <td>1</td>\n",
       "      <td>1</td>\n",
       "      <td>0</td>\n",
       "      <td>0</td>\n",
       "      <td>0</td>\n",
       "      <td>0</td>\n",
       "      <td>...</td>\n",
       "      <td>0</td>\n",
       "      <td>0</td>\n",
       "      <td>0</td>\n",
       "      <td>1</td>\n",
       "      <td>1</td>\n",
       "      <td>0</td>\n",
       "      <td>0</td>\n",
       "      <td>0</td>\n",
       "      <td>0</td>\n",
       "      <td>0</td>\n",
       "    </tr>\n",
       "  </tbody>\n",
       "</table>\n",
       "<p>5 rows × 295 columns</p>\n",
       "</div>"
      ],
      "text/plain": [
       "   price  yearOfRegistration  powerPS  kilometer  notRepairedDamage_nein  \\\n",
       "2   9800                2004      163     125000                       1   \n",
       "3   1500                2001       75     150000                       1   \n",
       "4   3600                2008       69      90000                       1   \n",
       "6   2200                2004      109     150000                       1   \n",
       "8  14500                2014      125      30000                       1   \n",
       "\n",
       "   vehicleType_bus  vehicleType_cabrio  vehicleType_coupe  \\\n",
       "2                0                   0                  0   \n",
       "3                0                   0                  0   \n",
       "4                0                   0                  0   \n",
       "6                0                   1                  0   \n",
       "8                1                   0                  0   \n",
       "\n",
       "   vehicleType_kleinwagen  vehicleType_kombi      ...       brand_toyota  \\\n",
       "2                       0                  0      ...                  0   \n",
       "3                       1                  0      ...                  0   \n",
       "4                       1                  0      ...                  0   \n",
       "6                       0                  0      ...                  0   \n",
       "8                       0                  0      ...                  0   \n",
       "\n",
       "   brand_volkswagen  brand_volvo  gearbox_manuell  fuelType_benzin  \\\n",
       "2                 0            0                0                0   \n",
       "3                 1            0                1                1   \n",
       "4                 0            0                1                0   \n",
       "6                 0            0                1                1   \n",
       "8                 0            0                1                1   \n",
       "\n",
       "   fuelType_cng  fuelType_diesel  fuelType_elektro  fuelType_hybrid  \\\n",
       "2             0                1                 0                0   \n",
       "3             0                0                 0                0   \n",
       "4             0                1                 0                0   \n",
       "6             0                0                 0                0   \n",
       "8             0                0                 0                0   \n",
       "\n",
       "   fuelType_lpg  \n",
       "2             0  \n",
       "3             0  \n",
       "4             0  \n",
       "6             0  \n",
       "8             0  \n",
       "\n",
       "[5 rows x 295 columns]"
      ]
     },
     "execution_count": 26,
     "metadata": {},
     "output_type": "execute_result"
    }
   ],
   "source": [
    "df.head()"
   ]
  },
  {
   "cell_type": "markdown",
   "metadata": {},
   "source": [
    "#### Determine the indepedent and the dependent (target) variable"
   ]
  },
  {
   "cell_type": "code",
   "execution_count": 27,
   "metadata": {},
   "outputs": [],
   "source": [
    "X = df.drop('price',axis=1)\n",
    "\n",
    "y = df['price']"
   ]
  },
  {
   "cell_type": "markdown",
   "metadata": {},
   "source": [
    "#### Split your data into a training set and testing set"
   ]
  },
  {
   "cell_type": "code",
   "execution_count": 28,
   "metadata": {},
   "outputs": [],
   "source": [
    "from sklearn.model_selection import train_test_split\n",
    "\n",
    "X_train, X_test, y_train, y_test = train_test_split(X, y)"
   ]
  },
  {
   "cell_type": "markdown",
   "metadata": {},
   "source": [
    "## Linear Regression"
   ]
  },
  {
   "cell_type": "markdown",
   "metadata": {},
   "source": [
    "Instantiate Linear Regression model  "
   ]
  },
  {
   "cell_type": "code",
   "execution_count": 29,
   "metadata": {},
   "outputs": [],
   "source": [
    "from sklearn.linear_model import LinearRegression\n",
    "\n",
    "LR=LinearRegression()"
   ]
  },
  {
   "cell_type": "markdown",
   "metadata": {},
   "source": [
    "Fit Model to training data"
   ]
  },
  {
   "cell_type": "code",
   "execution_count": 30,
   "metadata": {},
   "outputs": [
    {
     "data": {
      "text/plain": [
       "LinearRegression(copy_X=True, fit_intercept=True, n_jobs=1, normalize=False)"
      ]
     },
     "execution_count": 30,
     "metadata": {},
     "output_type": "execute_result"
    }
   ],
   "source": [
    "LR.fit(X_train,y_train)"
   ]
  },
  {
   "cell_type": "markdown",
   "metadata": {},
   "source": [
    "Predict using testing data"
   ]
  },
  {
   "cell_type": "code",
   "execution_count": 31,
   "metadata": {},
   "outputs": [],
   "source": [
    "y_pred = LR.predict(X_test)"
   ]
  },
  {
   "cell_type": "markdown",
   "metadata": {},
   "source": [
    "Evaluate your model and Accuracy"
   ]
  },
  {
   "cell_type": "code",
   "execution_count": 32,
   "metadata": {},
   "outputs": [
    {
     "data": {
      "text/plain": [
       "2515.032979506118"
      ]
     },
     "execution_count": 32,
     "metadata": {},
     "output_type": "execute_result"
    }
   ],
   "source": [
    "from sklearn import metrics\n",
    "np.sqrt(metrics.mean_squared_error(y_test, y_pred))"
   ]
  },
  {
   "cell_type": "code",
   "execution_count": 33,
   "metadata": {},
   "outputs": [
    {
     "name": "stdout",
     "output_type": "stream",
     "text": [
      "79.34505219244349 % Prediction Accuracy\n"
     ]
    }
   ],
   "source": [
    "print(LR.score(X_test, y_test)*100,'% Prediction Accuracy')"
   ]
  },
  {
   "cell_type": "markdown",
   "metadata": {},
   "source": [
    "## Random Forest Regression"
   ]
  },
  {
   "cell_type": "code",
   "execution_count": 34,
   "metadata": {},
   "outputs": [],
   "source": [
    "from sklearn.ensemble import RandomForestRegressor"
   ]
  },
  {
   "cell_type": "markdown",
   "metadata": {},
   "source": [
    "Instantiate Random Forest Regressor"
   ]
  },
  {
   "cell_type": "code",
   "execution_count": 35,
   "metadata": {},
   "outputs": [],
   "source": [
    "regr = RandomForestRegressor()"
   ]
  },
  {
   "cell_type": "markdown",
   "metadata": {},
   "source": [
    "Fit model to training data"
   ]
  },
  {
   "cell_type": "code",
   "execution_count": 36,
   "metadata": {},
   "outputs": [
    {
     "data": {
      "text/plain": [
       "RandomForestRegressor(bootstrap=True, criterion='mse', max_depth=None,\n",
       "           max_features='auto', max_leaf_nodes=None,\n",
       "           min_impurity_decrease=0.0, min_impurity_split=None,\n",
       "           min_samples_leaf=1, min_samples_split=2,\n",
       "           min_weight_fraction_leaf=0.0, n_estimators=10, n_jobs=1,\n",
       "           oob_score=False, random_state=None, verbose=0, warm_start=False)"
      ]
     },
     "execution_count": 36,
     "metadata": {},
     "output_type": "execute_result"
    }
   ],
   "source": [
    "regr.fit(X_train, y_train)"
   ]
  },
  {
   "cell_type": "markdown",
   "metadata": {},
   "source": [
    "Evaluate your model and Accuracy"
   ]
  },
  {
   "cell_type": "code",
   "execution_count": 38,
   "metadata": {},
   "outputs": [
    {
     "name": "stdout",
     "output_type": "stream",
     "text": [
      "91.50629846297326 % Prediction Accuracy\n"
     ]
    }
   ],
   "source": [
    "print(regr.score(X_test, y_test)*100,'% Prediction Accuracy')"
   ]
  },
  {
   "cell_type": "markdown",
   "metadata": {},
   "source": [
    "### Identifying important features"
   ]
  },
  {
   "cell_type": "code",
   "execution_count": 50,
   "metadata": {},
   "outputs": [
    {
     "name": "stdout",
     "output_type": "stream",
     "text": [
      "1. feature 92 {0.000000}\n",
      "2. feature 102 {0.000000}\n",
      "3. feature 198 {0.000000}\n",
      "4. feature 160 {0.000000}\n",
      "5. feature 120 {0.000000}\n",
      "6. feature 76 {0.000000}\n",
      "7. feature 30 {0.000000}\n",
      "8. feature 26 {0.000000}\n",
      "9. feature 124 {0.000000}\n",
      "10. feature 197 {0.000000}\n",
      "11. feature 162 {0.000000}\n",
      "12. feature 143 {0.000000}\n",
      "13. feature 31 {0.000001}\n",
      "14. feature 152 {0.000001}\n",
      "15. feature 184 {0.000001}\n",
      "16. feature 161 {0.000001}\n",
      "17. feature 139 {0.000001}\n",
      "18. feature 136 {0.000001}\n",
      "19. feature 151 {0.000001}\n",
      "20. feature 29 {0.000002}\n",
      "21. feature 175 {0.000002}\n",
      "22. feature 167 {0.000002}\n",
      "23. feature 137 {0.000002}\n",
      "24. feature 188 {0.000002}\n",
      "25. feature 247 {0.000002}\n",
      "26. feature 91 {0.000002}\n",
      "27. feature 157 {0.000002}\n",
      "28. feature 18 {0.000003}\n",
      "29. feature 87 {0.000003}\n",
      "30. feature 49 {0.000003}\n",
      "31. feature 206 {0.000003}\n",
      "32. feature 11 {0.000003}\n",
      "33. feature 133 {0.000003}\n",
      "34. feature 165 {0.000003}\n",
      "35. feature 32 {0.000004}\n",
      "36. feature 146 {0.000004}\n",
      "37. feature 203 {0.000004}\n",
      "38. feature 72 {0.000004}\n",
      "39. feature 127 {0.000005}\n",
      "40. feature 149 {0.000005}\n",
      "41. feature 217 {0.000005}\n",
      "42. feature 93 {0.000005}\n",
      "43. feature 104 {0.000005}\n",
      "44. feature 54 {0.000005}\n",
      "45. feature 96 {0.000005}\n",
      "46. feature 56 {0.000005}\n",
      "47. feature 111 {0.000006}\n",
      "48. feature 28 {0.000006}\n",
      "49. feature 61 {0.000006}\n",
      "50. feature 176 {0.000006}\n",
      "51. feature 44 {0.000006}\n",
      "52. feature 210 {0.000007}\n",
      "53. feature 231 {0.000007}\n",
      "54. feature 158 {0.000008}\n",
      "55. feature 220 {0.000008}\n",
      "56. feature 78 {0.000009}\n",
      "57. feature 193 {0.000009}\n",
      "58. feature 129 {0.000009}\n",
      "59. feature 70 {0.000010}\n",
      "60. feature 166 {0.000010}\n",
      "61. feature 239 {0.000010}\n",
      "62. feature 228 {0.000010}\n",
      "63. feature 156 {0.000010}\n",
      "64. feature 39 {0.000011}\n",
      "65. feature 119 {0.000011}\n",
      "66. feature 144 {0.000011}\n",
      "67. feature 178 {0.000012}\n",
      "68. feature 106 {0.000012}\n",
      "69. feature 117 {0.000012}\n",
      "70. feature 256 {0.000013}\n",
      "71. feature 88 {0.000013}\n",
      "72. feature 199 {0.000014}\n",
      "73. feature 275 {0.000014}\n",
      "74. feature 148 {0.000014}\n",
      "75. feature 135 {0.000014}\n",
      "76. feature 153 {0.000015}\n",
      "77. feature 15 {0.000016}\n",
      "78. feature 142 {0.000017}\n",
      "79. feature 115 {0.000017}\n",
      "80. feature 243 {0.000017}\n",
      "81. feature 110 {0.000017}\n",
      "82. feature 229 {0.000018}\n",
      "83. feature 132 {0.000019}\n",
      "84. feature 205 {0.000019}\n",
      "85. feature 214 {0.000019}\n",
      "86. feature 218 {0.000021}\n",
      "87. feature 94 {0.000021}\n",
      "88. feature 291 {0.000021}\n",
      "89. feature 84 {0.000021}\n",
      "90. feature 42 {0.000022}\n",
      "91. feature 53 {0.000023}\n",
      "92. feature 257 {0.000023}\n",
      "93. feature 185 {0.000024}\n",
      "94. feature 266 {0.000024}\n",
      "95. feature 27 {0.000024}\n",
      "96. feature 235 {0.000024}\n",
      "97. feature 77 {0.000025}\n",
      "98. feature 173 {0.000025}\n",
      "99. feature 200 {0.000026}\n",
      "100. feature 60 {0.000026}\n",
      "101. feature 98 {0.000026}\n",
      "102. feature 262 {0.000028}\n",
      "103. feature 233 {0.000028}\n",
      "104. feature 100 {0.000029}\n",
      "105. feature 85 {0.000029}\n",
      "106. feature 63 {0.000029}\n",
      "107. feature 194 {0.000030}\n",
      "108. feature 211 {0.000030}\n",
      "109. feature 51 {0.000031}\n",
      "110. feature 83 {0.000031}\n",
      "111. feature 171 {0.000032}\n",
      "112. feature 147 {0.000032}\n",
      "113. feature 68 {0.000032}\n",
      "114. feature 190 {0.000032}\n",
      "115. feature 180 {0.000033}\n",
      "116. feature 209 {0.000033}\n",
      "117. feature 192 {0.000033}\n",
      "118. feature 179 {0.000034}\n",
      "119. feature 245 {0.000036}\n",
      "120. feature 48 {0.000036}\n",
      "121. feature 45 {0.000037}\n",
      "122. feature 59 {0.000037}\n",
      "123. feature 62 {0.000037}\n",
      "124. feature 97 {0.000038}\n",
      "125. feature 14 {0.000038}\n",
      "126. feature 195 {0.000042}\n",
      "127. feature 41 {0.000042}\n",
      "128. feature 112 {0.000044}\n",
      "129. feature 81 {0.000046}\n",
      "130. feature 71 {0.000047}\n",
      "131. feature 265 {0.000048}\n",
      "132. feature 34 {0.000048}\n",
      "133. feature 12 {0.000049}\n",
      "134. feature 164 {0.000050}\n",
      "135. feature 230 {0.000050}\n",
      "136. feature 221 {0.000051}\n",
      "137. feature 21 {0.000052}\n",
      "138. feature 226 {0.000054}\n",
      "139. feature 114 {0.000057}\n",
      "140. feature 282 {0.000057}\n",
      "141. feature 58 {0.000058}\n",
      "142. feature 246 {0.000058}\n",
      "143. feature 65 {0.000058}\n",
      "144. feature 113 {0.000059}\n",
      "145. feature 75 {0.000059}\n",
      "146. feature 138 {0.000059}\n",
      "147. feature 187 {0.000060}\n",
      "148. feature 278 {0.000061}\n",
      "149. feature 23 {0.000062}\n",
      "150. feature 80 {0.000063}\n",
      "151. feature 155 {0.000064}\n",
      "152. feature 140 {0.000064}\n",
      "153. feature 277 {0.000065}\n",
      "154. feature 123 {0.000066}\n",
      "155. feature 67 {0.000068}\n",
      "156. feature 212 {0.000068}\n",
      "157. feature 234 {0.000069}\n",
      "158. feature 201 {0.000070}\n",
      "159. feature 52 {0.000074}\n",
      "160. feature 289 {0.000078}\n",
      "161. feature 242 {0.000078}\n",
      "162. feature 169 {0.000078}\n",
      "163. feature 172 {0.000079}\n",
      "164. feature 216 {0.000080}\n",
      "165. feature 281 {0.000081}\n",
      "166. feature 105 {0.000082}\n",
      "167. feature 189 {0.000083}\n",
      "168. feature 131 {0.000083}\n",
      "169. feature 73 {0.000083}\n",
      "170. feature 207 {0.000084}\n",
      "171. feature 25 {0.000085}\n",
      "172. feature 90 {0.000089}\n",
      "173. feature 79 {0.000091}\n",
      "174. feature 107 {0.000093}\n",
      "175. feature 263 {0.000098}\n",
      "176. feature 191 {0.000100}\n",
      "177. feature 215 {0.000103}\n",
      "178. feature 283 {0.000105}\n",
      "179. feature 134 {0.000109}\n",
      "180. feature 13 {0.000109}\n",
      "181. feature 202 {0.000109}\n",
      "182. feature 260 {0.000113}\n",
      "183. feature 22 {0.000114}\n",
      "184. feature 163 {0.000114}\n",
      "185. feature 103 {0.000115}\n",
      "186. feature 126 {0.000116}\n",
      "187. feature 227 {0.000120}\n",
      "188. feature 108 {0.000125}\n",
      "189. feature 128 {0.000132}\n",
      "190. feature 232 {0.000133}\n",
      "191. feature 74 {0.000134}\n",
      "192. feature 208 {0.000135}\n",
      "193. feature 64 {0.000137}\n",
      "194. feature 249 {0.000138}\n",
      "195. feature 57 {0.000140}\n",
      "196. feature 130 {0.000144}\n",
      "197. feature 82 {0.000146}\n",
      "198. feature 99 {0.000150}\n",
      "199. feature 196 {0.000152}\n",
      "200. feature 118 {0.000168}\n",
      "201. feature 141 {0.000168}\n",
      "202. feature 159 {0.000169}\n",
      "203. feature 154 {0.000172}\n",
      "204. feature 55 {0.000173}\n",
      "205. feature 89 {0.000181}\n",
      "206. feature 237 {0.000183}\n",
      "207. feature 19 {0.000195}\n",
      "208. feature 255 {0.000196}\n",
      "209. feature 253 {0.000196}\n",
      "210. feature 170 {0.000201}\n",
      "211. feature 292 {0.000203}\n",
      "212. feature 271 {0.000203}\n",
      "213. feature 293 {0.000206}\n",
      "214. feature 17 {0.000215}\n",
      "215. feature 258 {0.000222}\n",
      "216. feature 223 {0.000228}\n",
      "217. feature 46 {0.000229}\n",
      "218. feature 225 {0.000239}\n",
      "219. feature 150 {0.000244}\n",
      "220. feature 109 {0.000246}\n",
      "221. feature 125 {0.000258}\n",
      "222. feature 33 {0.000277}\n",
      "223. feature 43 {0.000277}\n",
      "224. feature 69 {0.000282}\n",
      "225. feature 168 {0.000292}\n",
      "226. feature 286 {0.000305}\n",
      "227. feature 183 {0.000311}\n",
      "228. feature 272 {0.000312}\n",
      "229. feature 264 {0.000315}\n",
      "230. feature 268 {0.000324}\n",
      "231. feature 244 {0.000328}\n",
      "232. feature 254 {0.000339}\n",
      "233. feature 238 {0.000347}\n",
      "234. feature 121 {0.000358}\n",
      "235. feature 40 {0.000368}\n",
      "236. feature 145 {0.000377}\n",
      "237. feature 213 {0.000383}\n",
      "238. feature 186 {0.000390}\n",
      "239. feature 261 {0.000404}\n",
      "240. feature 181 {0.000426}\n",
      "241. feature 279 {0.000443}\n",
      "242. feature 177 {0.000459}\n",
      "243. feature 86 {0.000462}\n",
      "244. feature 38 {0.000480}\n",
      "245. feature 248 {0.000489}\n",
      "246. feature 280 {0.000490}\n",
      "247. feature 274 {0.000495}\n",
      "248. feature 240 {0.000499}\n",
      "249. feature 252 {0.000523}\n",
      "250. feature 50 {0.000534}\n",
      "251. feature 222 {0.000562}\n",
      "252. feature 204 {0.000584}\n",
      "253. feature 174 {0.000584}\n",
      "254. feature 284 {0.000591}\n",
      "255. feature 37 {0.000605}\n",
      "256. feature 259 {0.000665}\n",
      "257. feature 276 {0.000736}\n",
      "258. feature 66 {0.000778}\n",
      "259. feature 24 {0.000799}\n",
      "260. feature 36 {0.000884}\n",
      "261. feature 16 {0.000923}\n",
      "262. feature 219 {0.000999}\n",
      "263. feature 101 {0.001176}\n",
      "264. feature 236 {0.001216}\n",
      "265. feature 20 {0.001257}\n",
      "266. feature 6 {0.001321}\n",
      "267. feature 267 {0.001366}\n",
      "268. feature 241 {0.001400}\n",
      "269. feature 35 {0.001443}\n",
      "270. feature 4 {0.001491}\n",
      "271. feature 182 {0.001503}\n",
      "272. feature 122 {0.001689}\n",
      "273. feature 47 {0.001718}\n",
      "274. feature 116 {0.001809}\n",
      "275. feature 270 {0.002098}\n",
      "276. feature 288 {0.002320}\n",
      "277. feature 95 {0.002327}\n",
      "278. feature 273 {0.002406}\n",
      "279. feature 9 {0.002496}\n",
      "280. feature 10 {0.002600}\n",
      "281. feature 7 {0.002761}\n",
      "282. feature 8 {0.002852}\n",
      "283. feature 290 {0.003369}\n",
      "284. feature 251 {0.003547}\n",
      "285. feature 285 {0.004204}\n",
      "286. feature 269 {0.004859}\n",
      "287. feature 287 {0.006290}\n",
      "288. feature 250 {0.006527}\n",
      "289. feature 5 {0.007007}\n",
      "290. feature 3 {0.007245}\n",
      "291. feature 224 {0.019304}\n",
      "292. feature 2 {0.031198}\n",
      "293. feature 1 {0.198975}\n",
      "294. feature 0 {0.637727}\n"
     ]
    }
   ],
   "source": [
    "feat_imp = regr.feature_importances_\n",
    "x = np.argsort(feat_imp)[::1]\n",
    "\n",
    "for element in range(X.shape[1]):\n",
    "    print('%d. feature %d {%f}' % (element+1,x[element],feat_imp[x[element]]))"
   ]
  },
  {
   "cell_type": "markdown",
   "metadata": {},
   "source": [
    "Feature 0,1, and 2 is collectively 86.8% important when explaining the valuation of a vehicle. \n",
    "\n",
    "Feature 0 ='yearOfRegistration'\n",
    "\n",
    "Feature 1 ='powerPS'\n",
    "\n",
    "Feature 2 ='kilometer'\n"
   ]
  }
 ],
 "metadata": {
  "kernelspec": {
   "display_name": "Python 3",
   "language": "python",
   "name": "python3"
  },
  "language_info": {
   "codemirror_mode": {
    "name": "ipython",
    "version": 3
   },
   "file_extension": ".py",
   "mimetype": "text/x-python",
   "name": "python",
   "nbconvert_exporter": "python",
   "pygments_lexer": "ipython3",
   "version": "3.6.4"
  }
 },
 "nbformat": 4,
 "nbformat_minor": 2
}
